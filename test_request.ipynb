{
 "cells": [
  {
   "cell_type": "code",
   "execution_count": 1,
   "id": "91d58ba6",
   "metadata": {},
   "outputs": [],
   "source": [
    "import requests"
   ]
  },
  {
   "cell_type": "code",
   "execution_count": 2,
   "id": "d61fea31",
   "metadata": {},
   "outputs": [],
   "source": [
    "url = \"http://127.0.0.1:9696/diabetesrisk\""
   ]
  },
  {
   "cell_type": "code",
   "execution_count": 3,
   "id": "9d1a65ce",
   "metadata": {},
   "outputs": [],
   "source": [
    "patient = {\n",
    "    \"gender\":\"male\",\n",
    "    \"age\":50,\n",
    "    \"hypertension\": 0,\n",
    "    \"heart_disease\": 0,\n",
    "    \"smoking_history\": \"current\",\n",
    "    \"bmi\": 25.31,\n",
    "    \"hba1c_level\":7.0,\n",
    "    \"blood_glucose_level\":220\n",
    "}"
   ]
  },
  {
   "cell_type": "code",
   "execution_count": 4,
   "id": "0799c5e6",
   "metadata": {},
   "outputs": [],
   "source": [
    "res= requests.post(url, json=patient).json()"
   ]
  },
  {
   "cell_type": "code",
   "execution_count": 5,
   "id": "48e0da88",
   "metadata": {},
   "outputs": [
    {
     "name": "stdout",
     "output_type": "stream",
     "text": [
      "{'Diabetes Risk': True, 'Diabetest_Risk_probablity': 0.5824450011990162}\n"
     ]
    }
   ],
   "source": [
    "print(res)"
   ]
  },
  {
   "cell_type": "code",
   "execution_count": null,
   "id": "2f8d35ce",
   "metadata": {},
   "outputs": [],
   "source": []
  }
 ],
 "metadata": {
  "kernelspec": {
   "display_name": "Python 3 (ipykernel)",
   "language": "python",
   "name": "python3"
  },
  "language_info": {
   "codemirror_mode": {
    "name": "ipython",
    "version": 3
   },
   "file_extension": ".py",
   "mimetype": "text/x-python",
   "name": "python",
   "nbconvert_exporter": "python",
   "pygments_lexer": "ipython3",
   "version": "3.9.17"
  }
 },
 "nbformat": 4,
 "nbformat_minor": 5
}
